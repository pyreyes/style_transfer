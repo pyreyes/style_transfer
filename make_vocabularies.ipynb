{
  "nbformat": 4,
  "nbformat_minor": 0,
  "metadata": {
    "colab": {
      "name": "make_vocabularies.ipynb",
      "provenance": [],
      "collapsed_sections": [],
      "include_colab_link": true
    },
    "kernelspec": {
      "name": "python3",
      "display_name": "Python 3"
    },
    "widgets": {
      "application/vnd.jupyter.widget-state+json": {
        "0ed6759a7bee4aa594d8fafbc822c414": {
          "model_module": "@jupyter-widgets/controls",
          "model_name": "HBoxModel",
          "state": {
            "_view_name": "HBoxView",
            "_dom_classes": [],
            "_model_name": "HBoxModel",
            "_view_module": "@jupyter-widgets/controls",
            "_model_module_version": "1.5.0",
            "_view_count": null,
            "_view_module_version": "1.5.0",
            "box_style": "",
            "layout": "IPY_MODEL_cab6c1063c584026bb68889b53534572",
            "_model_module": "@jupyter-widgets/controls",
            "children": [
              "IPY_MODEL_2e7d0d66bad8417f8e4730e08772f81a",
              "IPY_MODEL_38d9b2d2debe4a21b0471a1ca7a6b3d6"
            ]
          }
        },
        "cab6c1063c584026bb68889b53534572": {
          "model_module": "@jupyter-widgets/base",
          "model_name": "LayoutModel",
          "state": {
            "_view_name": "LayoutView",
            "grid_template_rows": null,
            "right": null,
            "justify_content": null,
            "_view_module": "@jupyter-widgets/base",
            "overflow": null,
            "_model_module_version": "1.2.0",
            "_view_count": null,
            "flex_flow": null,
            "width": null,
            "min_width": null,
            "border": null,
            "align_items": null,
            "bottom": null,
            "_model_module": "@jupyter-widgets/base",
            "top": null,
            "grid_column": null,
            "overflow_y": null,
            "overflow_x": null,
            "grid_auto_flow": null,
            "grid_area": null,
            "grid_template_columns": null,
            "flex": null,
            "_model_name": "LayoutModel",
            "justify_items": null,
            "grid_row": null,
            "max_height": null,
            "align_content": null,
            "visibility": null,
            "align_self": null,
            "height": null,
            "min_height": null,
            "padding": null,
            "grid_auto_rows": null,
            "grid_gap": null,
            "max_width": null,
            "order": null,
            "_view_module_version": "1.2.0",
            "grid_template_areas": null,
            "object_position": null,
            "object_fit": null,
            "grid_auto_columns": null,
            "margin": null,
            "display": null,
            "left": null
          }
        },
        "2e7d0d66bad8417f8e4730e08772f81a": {
          "model_module": "@jupyter-widgets/controls",
          "model_name": "FloatProgressModel",
          "state": {
            "_view_name": "ProgressView",
            "style": "IPY_MODEL_6678af1ad1df4672afa4d15e6629effd",
            "_dom_classes": [],
            "description": "Downloading: ",
            "_model_name": "FloatProgressModel",
            "bar_style": "success",
            "max": 1690,
            "_view_module": "@jupyter-widgets/controls",
            "_model_module_version": "1.5.0",
            "value": 1690,
            "_view_count": null,
            "_view_module_version": "1.5.0",
            "orientation": "horizontal",
            "min": 0,
            "description_tooltip": null,
            "_model_module": "@jupyter-widgets/controls",
            "layout": "IPY_MODEL_ec6f4db962a14598b517da96d9f3ad6e"
          }
        },
        "38d9b2d2debe4a21b0471a1ca7a6b3d6": {
          "model_module": "@jupyter-widgets/controls",
          "model_name": "HTMLModel",
          "state": {
            "_view_name": "HTMLView",
            "style": "IPY_MODEL_c8af7d20c66545f5b2f83b16d4bf87cf",
            "_dom_classes": [],
            "description": "",
            "_model_name": "HTMLModel",
            "placeholder": "​",
            "_view_module": "@jupyter-widgets/controls",
            "_model_module_version": "1.5.0",
            "value": " 4.06k/? [00:00&lt;00:00, 12.8kB/s]",
            "_view_count": null,
            "_view_module_version": "1.5.0",
            "description_tooltip": null,
            "_model_module": "@jupyter-widgets/controls",
            "layout": "IPY_MODEL_fbf4f2fbc044452ead7c7766fbbd8b23"
          }
        },
        "6678af1ad1df4672afa4d15e6629effd": {
          "model_module": "@jupyter-widgets/controls",
          "model_name": "ProgressStyleModel",
          "state": {
            "_view_name": "StyleView",
            "_model_name": "ProgressStyleModel",
            "description_width": "initial",
            "_view_module": "@jupyter-widgets/base",
            "_model_module_version": "1.5.0",
            "_view_count": null,
            "_view_module_version": "1.2.0",
            "bar_color": null,
            "_model_module": "@jupyter-widgets/controls"
          }
        },
        "ec6f4db962a14598b517da96d9f3ad6e": {
          "model_module": "@jupyter-widgets/base",
          "model_name": "LayoutModel",
          "state": {
            "_view_name": "LayoutView",
            "grid_template_rows": null,
            "right": null,
            "justify_content": null,
            "_view_module": "@jupyter-widgets/base",
            "overflow": null,
            "_model_module_version": "1.2.0",
            "_view_count": null,
            "flex_flow": null,
            "width": null,
            "min_width": null,
            "border": null,
            "align_items": null,
            "bottom": null,
            "_model_module": "@jupyter-widgets/base",
            "top": null,
            "grid_column": null,
            "overflow_y": null,
            "overflow_x": null,
            "grid_auto_flow": null,
            "grid_area": null,
            "grid_template_columns": null,
            "flex": null,
            "_model_name": "LayoutModel",
            "justify_items": null,
            "grid_row": null,
            "max_height": null,
            "align_content": null,
            "visibility": null,
            "align_self": null,
            "height": null,
            "min_height": null,
            "padding": null,
            "grid_auto_rows": null,
            "grid_gap": null,
            "max_width": null,
            "order": null,
            "_view_module_version": "1.2.0",
            "grid_template_areas": null,
            "object_position": null,
            "object_fit": null,
            "grid_auto_columns": null,
            "margin": null,
            "display": null,
            "left": null
          }
        },
        "c8af7d20c66545f5b2f83b16d4bf87cf": {
          "model_module": "@jupyter-widgets/controls",
          "model_name": "DescriptionStyleModel",
          "state": {
            "_view_name": "StyleView",
            "_model_name": "DescriptionStyleModel",
            "description_width": "",
            "_view_module": "@jupyter-widgets/base",
            "_model_module_version": "1.5.0",
            "_view_count": null,
            "_view_module_version": "1.2.0",
            "_model_module": "@jupyter-widgets/controls"
          }
        },
        "fbf4f2fbc044452ead7c7766fbbd8b23": {
          "model_module": "@jupyter-widgets/base",
          "model_name": "LayoutModel",
          "state": {
            "_view_name": "LayoutView",
            "grid_template_rows": null,
            "right": null,
            "justify_content": null,
            "_view_module": "@jupyter-widgets/base",
            "overflow": null,
            "_model_module_version": "1.2.0",
            "_view_count": null,
            "flex_flow": null,
            "width": null,
            "min_width": null,
            "border": null,
            "align_items": null,
            "bottom": null,
            "_model_module": "@jupyter-widgets/base",
            "top": null,
            "grid_column": null,
            "overflow_y": null,
            "overflow_x": null,
            "grid_auto_flow": null,
            "grid_area": null,
            "grid_template_columns": null,
            "flex": null,
            "_model_name": "LayoutModel",
            "justify_items": null,
            "grid_row": null,
            "max_height": null,
            "align_content": null,
            "visibility": null,
            "align_self": null,
            "height": null,
            "min_height": null,
            "padding": null,
            "grid_auto_rows": null,
            "grid_gap": null,
            "max_width": null,
            "order": null,
            "_view_module_version": "1.2.0",
            "grid_template_areas": null,
            "object_position": null,
            "object_fit": null,
            "grid_auto_columns": null,
            "margin": null,
            "display": null,
            "left": null
          }
        },
        "795bbf23a36041118482d8f8651ebc47": {
          "model_module": "@jupyter-widgets/controls",
          "model_name": "HBoxModel",
          "state": {
            "_view_name": "HBoxView",
            "_dom_classes": [],
            "_model_name": "HBoxModel",
            "_view_module": "@jupyter-widgets/controls",
            "_model_module_version": "1.5.0",
            "_view_count": null,
            "_view_module_version": "1.5.0",
            "box_style": "",
            "layout": "IPY_MODEL_c72d322489c04dca92a53d012e82f005",
            "_model_module": "@jupyter-widgets/controls",
            "children": [
              "IPY_MODEL_689b9948359240c1b8990e50f44a9ab3",
              "IPY_MODEL_4a942f3852334fab8b05c08a967b03fd"
            ]
          }
        },
        "c72d322489c04dca92a53d012e82f005": {
          "model_module": "@jupyter-widgets/base",
          "model_name": "LayoutModel",
          "state": {
            "_view_name": "LayoutView",
            "grid_template_rows": null,
            "right": null,
            "justify_content": null,
            "_view_module": "@jupyter-widgets/base",
            "overflow": null,
            "_model_module_version": "1.2.0",
            "_view_count": null,
            "flex_flow": null,
            "width": null,
            "min_width": null,
            "border": null,
            "align_items": null,
            "bottom": null,
            "_model_module": "@jupyter-widgets/base",
            "top": null,
            "grid_column": null,
            "overflow_y": null,
            "overflow_x": null,
            "grid_auto_flow": null,
            "grid_area": null,
            "grid_template_columns": null,
            "flex": null,
            "_model_name": "LayoutModel",
            "justify_items": null,
            "grid_row": null,
            "max_height": null,
            "align_content": null,
            "visibility": null,
            "align_self": null,
            "height": null,
            "min_height": null,
            "padding": null,
            "grid_auto_rows": null,
            "grid_gap": null,
            "max_width": null,
            "order": null,
            "_view_module_version": "1.2.0",
            "grid_template_areas": null,
            "object_position": null,
            "object_fit": null,
            "grid_auto_columns": null,
            "margin": null,
            "display": null,
            "left": null
          }
        },
        "689b9948359240c1b8990e50f44a9ab3": {
          "model_module": "@jupyter-widgets/controls",
          "model_name": "FloatProgressModel",
          "state": {
            "_view_name": "ProgressView",
            "style": "IPY_MODEL_d553d2fe3f224f15b8cc52a22666d4d1",
            "_dom_classes": [],
            "description": "Downloading: ",
            "_model_name": "FloatProgressModel",
            "bar_style": "success",
            "max": 860,
            "_view_module": "@jupyter-widgets/controls",
            "_model_module_version": "1.5.0",
            "value": 860,
            "_view_count": null,
            "_view_module_version": "1.5.0",
            "orientation": "horizontal",
            "min": 0,
            "description_tooltip": null,
            "_model_module": "@jupyter-widgets/controls",
            "layout": "IPY_MODEL_c195ec40fe744723bbf0d53177bca9d1"
          }
        },
        "4a942f3852334fab8b05c08a967b03fd": {
          "model_module": "@jupyter-widgets/controls",
          "model_name": "HTMLModel",
          "state": {
            "_view_name": "HTMLView",
            "style": "IPY_MODEL_c0a6a57db1db45b49cdc48effedf81ba",
            "_dom_classes": [],
            "description": "",
            "_model_name": "HTMLModel",
            "placeholder": "​",
            "_view_module": "@jupyter-widgets/controls",
            "_model_module_version": "1.5.0",
            "value": " 1.68k/? [00:37&lt;00:00, 44.8B/s]",
            "_view_count": null,
            "_view_module_version": "1.5.0",
            "description_tooltip": null,
            "_model_module": "@jupyter-widgets/controls",
            "layout": "IPY_MODEL_d7b928a03dda4086ada275913808372c"
          }
        },
        "d553d2fe3f224f15b8cc52a22666d4d1": {
          "model_module": "@jupyter-widgets/controls",
          "model_name": "ProgressStyleModel",
          "state": {
            "_view_name": "StyleView",
            "_model_name": "ProgressStyleModel",
            "description_width": "initial",
            "_view_module": "@jupyter-widgets/base",
            "_model_module_version": "1.5.0",
            "_view_count": null,
            "_view_module_version": "1.2.0",
            "bar_color": null,
            "_model_module": "@jupyter-widgets/controls"
          }
        },
        "c195ec40fe744723bbf0d53177bca9d1": {
          "model_module": "@jupyter-widgets/base",
          "model_name": "LayoutModel",
          "state": {
            "_view_name": "LayoutView",
            "grid_template_rows": null,
            "right": null,
            "justify_content": null,
            "_view_module": "@jupyter-widgets/base",
            "overflow": null,
            "_model_module_version": "1.2.0",
            "_view_count": null,
            "flex_flow": null,
            "width": null,
            "min_width": null,
            "border": null,
            "align_items": null,
            "bottom": null,
            "_model_module": "@jupyter-widgets/base",
            "top": null,
            "grid_column": null,
            "overflow_y": null,
            "overflow_x": null,
            "grid_auto_flow": null,
            "grid_area": null,
            "grid_template_columns": null,
            "flex": null,
            "_model_name": "LayoutModel",
            "justify_items": null,
            "grid_row": null,
            "max_height": null,
            "align_content": null,
            "visibility": null,
            "align_self": null,
            "height": null,
            "min_height": null,
            "padding": null,
            "grid_auto_rows": null,
            "grid_gap": null,
            "max_width": null,
            "order": null,
            "_view_module_version": "1.2.0",
            "grid_template_areas": null,
            "object_position": null,
            "object_fit": null,
            "grid_auto_columns": null,
            "margin": null,
            "display": null,
            "left": null
          }
        },
        "c0a6a57db1db45b49cdc48effedf81ba": {
          "model_module": "@jupyter-widgets/controls",
          "model_name": "DescriptionStyleModel",
          "state": {
            "_view_name": "StyleView",
            "_model_name": "DescriptionStyleModel",
            "description_width": "",
            "_view_module": "@jupyter-widgets/base",
            "_model_module_version": "1.5.0",
            "_view_count": null,
            "_view_module_version": "1.2.0",
            "_model_module": "@jupyter-widgets/controls"
          }
        },
        "d7b928a03dda4086ada275913808372c": {
          "model_module": "@jupyter-widgets/base",
          "model_name": "LayoutModel",
          "state": {
            "_view_name": "LayoutView",
            "grid_template_rows": null,
            "right": null,
            "justify_content": null,
            "_view_module": "@jupyter-widgets/base",
            "overflow": null,
            "_model_module_version": "1.2.0",
            "_view_count": null,
            "flex_flow": null,
            "width": null,
            "min_width": null,
            "border": null,
            "align_items": null,
            "bottom": null,
            "_model_module": "@jupyter-widgets/base",
            "top": null,
            "grid_column": null,
            "overflow_y": null,
            "overflow_x": null,
            "grid_auto_flow": null,
            "grid_area": null,
            "grid_template_columns": null,
            "flex": null,
            "_model_name": "LayoutModel",
            "justify_items": null,
            "grid_row": null,
            "max_height": null,
            "align_content": null,
            "visibility": null,
            "align_self": null,
            "height": null,
            "min_height": null,
            "padding": null,
            "grid_auto_rows": null,
            "grid_gap": null,
            "max_width": null,
            "order": null,
            "_view_module_version": "1.2.0",
            "grid_template_areas": null,
            "object_position": null,
            "object_fit": null,
            "grid_auto_columns": null,
            "margin": null,
            "display": null,
            "left": null
          }
        },
        "9dfdef1950ab483f951d4b773ee14958": {
          "model_module": "@jupyter-widgets/controls",
          "model_name": "HBoxModel",
          "state": {
            "_view_name": "HBoxView",
            "_dom_classes": [],
            "_model_name": "HBoxModel",
            "_view_module": "@jupyter-widgets/controls",
            "_model_module_version": "1.5.0",
            "_view_count": null,
            "_view_module_version": "1.5.0",
            "box_style": "",
            "layout": "IPY_MODEL_40f4b6c5ab3143c1866b89612152f0e8",
            "_model_module": "@jupyter-widgets/controls",
            "children": [
              "IPY_MODEL_ab236f1bea7d49d9b88e726775d04734",
              "IPY_MODEL_9a7c579a9204463ab219b6f3cfa42330"
            ]
          }
        },
        "40f4b6c5ab3143c1866b89612152f0e8": {
          "model_module": "@jupyter-widgets/base",
          "model_name": "LayoutModel",
          "state": {
            "_view_name": "LayoutView",
            "grid_template_rows": null,
            "right": null,
            "justify_content": null,
            "_view_module": "@jupyter-widgets/base",
            "overflow": null,
            "_model_module_version": "1.2.0",
            "_view_count": null,
            "flex_flow": null,
            "width": null,
            "min_width": null,
            "border": null,
            "align_items": null,
            "bottom": null,
            "_model_module": "@jupyter-widgets/base",
            "top": null,
            "grid_column": null,
            "overflow_y": null,
            "overflow_x": null,
            "grid_auto_flow": null,
            "grid_area": null,
            "grid_template_columns": null,
            "flex": null,
            "_model_name": "LayoutModel",
            "justify_items": null,
            "grid_row": null,
            "max_height": null,
            "align_content": null,
            "visibility": null,
            "align_self": null,
            "height": null,
            "min_height": null,
            "padding": null,
            "grid_auto_rows": null,
            "grid_gap": null,
            "max_width": null,
            "order": null,
            "_view_module_version": "1.2.0",
            "grid_template_areas": null,
            "object_position": null,
            "object_fit": null,
            "grid_auto_columns": null,
            "margin": null,
            "display": null,
            "left": null
          }
        },
        "ab236f1bea7d49d9b88e726775d04734": {
          "model_module": "@jupyter-widgets/controls",
          "model_name": "FloatProgressModel",
          "state": {
            "_view_name": "ProgressView",
            "style": "IPY_MODEL_b34f4cc8c7f74390b5b3daa581f7c99e",
            "_dom_classes": [],
            "description": "Downloading: ",
            "_model_name": "FloatProgressModel",
            "bar_style": "success",
            "max": 1,
            "_view_module": "@jupyter-widgets/controls",
            "_model_module_version": "1.5.0",
            "value": 1,
            "_view_count": null,
            "_view_module_version": "1.5.0",
            "orientation": "horizontal",
            "min": 0,
            "description_tooltip": null,
            "_model_module": "@jupyter-widgets/controls",
            "layout": "IPY_MODEL_2784b36a7f70401b8999cb9f39ce3f1a"
          }
        },
        "9a7c579a9204463ab219b6f3cfa42330": {
          "model_module": "@jupyter-widgets/controls",
          "model_name": "HTMLModel",
          "state": {
            "_view_name": "HTMLView",
            "style": "IPY_MODEL_e314e12c6a794469b99fb3de0187f3de",
            "_dom_classes": [],
            "description": "",
            "_model_name": "HTMLModel",
            "placeholder": "​",
            "_view_module": "@jupyter-widgets/controls",
            "_model_module_version": "1.5.0",
            "value": " 688M/? [00:35&lt;00:00, 19.3MB/s]",
            "_view_count": null,
            "_view_module_version": "1.5.0",
            "description_tooltip": null,
            "_model_module": "@jupyter-widgets/controls",
            "layout": "IPY_MODEL_a54a13eee7374be3858130db1f9d44d3"
          }
        },
        "b34f4cc8c7f74390b5b3daa581f7c99e": {
          "model_module": "@jupyter-widgets/controls",
          "model_name": "ProgressStyleModel",
          "state": {
            "_view_name": "StyleView",
            "_model_name": "ProgressStyleModel",
            "description_width": "initial",
            "_view_module": "@jupyter-widgets/base",
            "_model_module_version": "1.5.0",
            "_view_count": null,
            "_view_module_version": "1.2.0",
            "bar_color": null,
            "_model_module": "@jupyter-widgets/controls"
          }
        },
        "2784b36a7f70401b8999cb9f39ce3f1a": {
          "model_module": "@jupyter-widgets/base",
          "model_name": "LayoutModel",
          "state": {
            "_view_name": "LayoutView",
            "grid_template_rows": null,
            "right": null,
            "justify_content": null,
            "_view_module": "@jupyter-widgets/base",
            "overflow": null,
            "_model_module_version": "1.2.0",
            "_view_count": null,
            "flex_flow": null,
            "width": null,
            "min_width": null,
            "border": null,
            "align_items": null,
            "bottom": null,
            "_model_module": "@jupyter-widgets/base",
            "top": null,
            "grid_column": null,
            "overflow_y": null,
            "overflow_x": null,
            "grid_auto_flow": null,
            "grid_area": null,
            "grid_template_columns": null,
            "flex": null,
            "_model_name": "LayoutModel",
            "justify_items": null,
            "grid_row": null,
            "max_height": null,
            "align_content": null,
            "visibility": null,
            "align_self": null,
            "height": null,
            "min_height": null,
            "padding": null,
            "grid_auto_rows": null,
            "grid_gap": null,
            "max_width": null,
            "order": null,
            "_view_module_version": "1.2.0",
            "grid_template_areas": null,
            "object_position": null,
            "object_fit": null,
            "grid_auto_columns": null,
            "margin": null,
            "display": null,
            "left": null
          }
        },
        "e314e12c6a794469b99fb3de0187f3de": {
          "model_module": "@jupyter-widgets/controls",
          "model_name": "DescriptionStyleModel",
          "state": {
            "_view_name": "StyleView",
            "_model_name": "DescriptionStyleModel",
            "description_width": "",
            "_view_module": "@jupyter-widgets/base",
            "_model_module_version": "1.5.0",
            "_view_count": null,
            "_view_module_version": "1.2.0",
            "_model_module": "@jupyter-widgets/controls"
          }
        },
        "a54a13eee7374be3858130db1f9d44d3": {
          "model_module": "@jupyter-widgets/base",
          "model_name": "LayoutModel",
          "state": {
            "_view_name": "LayoutView",
            "grid_template_rows": null,
            "right": null,
            "justify_content": null,
            "_view_module": "@jupyter-widgets/base",
            "overflow": null,
            "_model_module_version": "1.2.0",
            "_view_count": null,
            "flex_flow": null,
            "width": null,
            "min_width": null,
            "border": null,
            "align_items": null,
            "bottom": null,
            "_model_module": "@jupyter-widgets/base",
            "top": null,
            "grid_column": null,
            "overflow_y": null,
            "overflow_x": null,
            "grid_auto_flow": null,
            "grid_area": null,
            "grid_template_columns": null,
            "flex": null,
            "_model_name": "LayoutModel",
            "justify_items": null,
            "grid_row": null,
            "max_height": null,
            "align_content": null,
            "visibility": null,
            "align_self": null,
            "height": null,
            "min_height": null,
            "padding": null,
            "grid_auto_rows": null,
            "grid_gap": null,
            "max_width": null,
            "order": null,
            "_view_module_version": "1.2.0",
            "grid_template_areas": null,
            "object_position": null,
            "object_fit": null,
            "grid_auto_columns": null,
            "margin": null,
            "display": null,
            "left": null
          }
        },
        "15bc5bd3fda74a1fa68558b69d5bd7bc": {
          "model_module": "@jupyter-widgets/controls",
          "model_name": "HBoxModel",
          "state": {
            "_view_name": "HBoxView",
            "_dom_classes": [],
            "_model_name": "HBoxModel",
            "_view_module": "@jupyter-widgets/controls",
            "_model_module_version": "1.5.0",
            "_view_count": null,
            "_view_module_version": "1.5.0",
            "box_style": "",
            "layout": "IPY_MODEL_09db291e2363425281595a1226be0bad",
            "_model_module": "@jupyter-widgets/controls",
            "children": [
              "IPY_MODEL_d650e9519b2140a9af10a3b27a5cd635",
              "IPY_MODEL_2e7d7877d74449829237fdc4c4ba7825"
            ]
          }
        },
        "09db291e2363425281595a1226be0bad": {
          "model_module": "@jupyter-widgets/base",
          "model_name": "LayoutModel",
          "state": {
            "_view_name": "LayoutView",
            "grid_template_rows": null,
            "right": null,
            "justify_content": null,
            "_view_module": "@jupyter-widgets/base",
            "overflow": null,
            "_model_module_version": "1.2.0",
            "_view_count": null,
            "flex_flow": null,
            "width": null,
            "min_width": null,
            "border": null,
            "align_items": null,
            "bottom": null,
            "_model_module": "@jupyter-widgets/base",
            "top": null,
            "grid_column": null,
            "overflow_y": null,
            "overflow_x": null,
            "grid_auto_flow": null,
            "grid_area": null,
            "grid_template_columns": null,
            "flex": null,
            "_model_name": "LayoutModel",
            "justify_items": null,
            "grid_row": null,
            "max_height": null,
            "align_content": null,
            "visibility": null,
            "align_self": null,
            "height": null,
            "min_height": null,
            "padding": null,
            "grid_auto_rows": null,
            "grid_gap": null,
            "max_width": null,
            "order": null,
            "_view_module_version": "1.2.0",
            "grid_template_areas": null,
            "object_position": null,
            "object_fit": null,
            "grid_auto_columns": null,
            "margin": null,
            "display": null,
            "left": null
          }
        },
        "d650e9519b2140a9af10a3b27a5cd635": {
          "model_module": "@jupyter-widgets/controls",
          "model_name": "FloatProgressModel",
          "state": {
            "_view_name": "ProgressView",
            "style": "IPY_MODEL_854ba6651a5940089a7314cbcfa60efa",
            "_dom_classes": [],
            "description": "",
            "_model_name": "FloatProgressModel",
            "bar_style": "info",
            "max": 1,
            "_view_module": "@jupyter-widgets/controls",
            "_model_module_version": "1.5.0",
            "value": 1,
            "_view_count": null,
            "_view_module_version": "1.5.0",
            "orientation": "horizontal",
            "min": 0,
            "description_tooltip": null,
            "_model_module": "@jupyter-widgets/controls",
            "layout": "IPY_MODEL_e56c62f716934bd9a1c6882b4f4bc782"
          }
        },
        "2e7d7877d74449829237fdc4c4ba7825": {
          "model_module": "@jupyter-widgets/controls",
          "model_name": "HTMLModel",
          "state": {
            "_view_name": "HTMLView",
            "style": "IPY_MODEL_1ce6c574192b425bae4da06db8cfa8e8",
            "_dom_classes": [],
            "description": "",
            "_model_name": "HTMLModel",
            "placeholder": "​",
            "_view_module": "@jupyter-widgets/controls",
            "_model_module_version": "1.5.0",
            "value": " 3600000/0 [01:56&lt;00:00, 33685.37 examples/s]",
            "_view_count": null,
            "_view_module_version": "1.5.0",
            "description_tooltip": null,
            "_model_module": "@jupyter-widgets/controls",
            "layout": "IPY_MODEL_61168f29c0ae4038a0ecad97f02809e9"
          }
        },
        "854ba6651a5940089a7314cbcfa60efa": {
          "model_module": "@jupyter-widgets/controls",
          "model_name": "ProgressStyleModel",
          "state": {
            "_view_name": "StyleView",
            "_model_name": "ProgressStyleModel",
            "description_width": "initial",
            "_view_module": "@jupyter-widgets/base",
            "_model_module_version": "1.5.0",
            "_view_count": null,
            "_view_module_version": "1.2.0",
            "bar_color": null,
            "_model_module": "@jupyter-widgets/controls"
          }
        },
        "e56c62f716934bd9a1c6882b4f4bc782": {
          "model_module": "@jupyter-widgets/base",
          "model_name": "LayoutModel",
          "state": {
            "_view_name": "LayoutView",
            "grid_template_rows": null,
            "right": null,
            "justify_content": null,
            "_view_module": "@jupyter-widgets/base",
            "overflow": null,
            "_model_module_version": "1.2.0",
            "_view_count": null,
            "flex_flow": null,
            "width": null,
            "min_width": null,
            "border": null,
            "align_items": null,
            "bottom": null,
            "_model_module": "@jupyter-widgets/base",
            "top": null,
            "grid_column": null,
            "overflow_y": null,
            "overflow_x": null,
            "grid_auto_flow": null,
            "grid_area": null,
            "grid_template_columns": null,
            "flex": null,
            "_model_name": "LayoutModel",
            "justify_items": null,
            "grid_row": null,
            "max_height": null,
            "align_content": null,
            "visibility": null,
            "align_self": null,
            "height": null,
            "min_height": null,
            "padding": null,
            "grid_auto_rows": null,
            "grid_gap": null,
            "max_width": null,
            "order": null,
            "_view_module_version": "1.2.0",
            "grid_template_areas": null,
            "object_position": null,
            "object_fit": null,
            "grid_auto_columns": null,
            "margin": null,
            "display": null,
            "left": null
          }
        },
        "1ce6c574192b425bae4da06db8cfa8e8": {
          "model_module": "@jupyter-widgets/controls",
          "model_name": "DescriptionStyleModel",
          "state": {
            "_view_name": "StyleView",
            "_model_name": "DescriptionStyleModel",
            "description_width": "",
            "_view_module": "@jupyter-widgets/base",
            "_model_module_version": "1.5.0",
            "_view_count": null,
            "_view_module_version": "1.2.0",
            "_model_module": "@jupyter-widgets/controls"
          }
        },
        "61168f29c0ae4038a0ecad97f02809e9": {
          "model_module": "@jupyter-widgets/base",
          "model_name": "LayoutModel",
          "state": {
            "_view_name": "LayoutView",
            "grid_template_rows": null,
            "right": null,
            "justify_content": null,
            "_view_module": "@jupyter-widgets/base",
            "overflow": null,
            "_model_module_version": "1.2.0",
            "_view_count": null,
            "flex_flow": null,
            "width": null,
            "min_width": null,
            "border": null,
            "align_items": null,
            "bottom": null,
            "_model_module": "@jupyter-widgets/base",
            "top": null,
            "grid_column": null,
            "overflow_y": null,
            "overflow_x": null,
            "grid_auto_flow": null,
            "grid_area": null,
            "grid_template_columns": null,
            "flex": null,
            "_model_name": "LayoutModel",
            "justify_items": null,
            "grid_row": null,
            "max_height": null,
            "align_content": null,
            "visibility": null,
            "align_self": null,
            "height": null,
            "min_height": null,
            "padding": null,
            "grid_auto_rows": null,
            "grid_gap": null,
            "max_width": null,
            "order": null,
            "_view_module_version": "1.2.0",
            "grid_template_areas": null,
            "object_position": null,
            "object_fit": null,
            "grid_auto_columns": null,
            "margin": null,
            "display": null,
            "left": null
          }
        },
        "87004b001dea454492c45238e49fe9a5": {
          "model_module": "@jupyter-widgets/controls",
          "model_name": "HBoxModel",
          "state": {
            "_view_name": "HBoxView",
            "_dom_classes": [],
            "_model_name": "HBoxModel",
            "_view_module": "@jupyter-widgets/controls",
            "_model_module_version": "1.5.0",
            "_view_count": null,
            "_view_module_version": "1.5.0",
            "box_style": "",
            "layout": "IPY_MODEL_c5dc009029d046f990a596ec90e08076",
            "_model_module": "@jupyter-widgets/controls",
            "children": [
              "IPY_MODEL_305a8a63096a411dbf91c0eb28388945",
              "IPY_MODEL_f4f327ee1b014b0281817779238479d3"
            ]
          }
        },
        "c5dc009029d046f990a596ec90e08076": {
          "model_module": "@jupyter-widgets/base",
          "model_name": "LayoutModel",
          "state": {
            "_view_name": "LayoutView",
            "grid_template_rows": null,
            "right": null,
            "justify_content": null,
            "_view_module": "@jupyter-widgets/base",
            "overflow": null,
            "_model_module_version": "1.2.0",
            "_view_count": null,
            "flex_flow": null,
            "width": null,
            "min_width": null,
            "border": null,
            "align_items": null,
            "bottom": null,
            "_model_module": "@jupyter-widgets/base",
            "top": null,
            "grid_column": null,
            "overflow_y": null,
            "overflow_x": null,
            "grid_auto_flow": null,
            "grid_area": null,
            "grid_template_columns": null,
            "flex": null,
            "_model_name": "LayoutModel",
            "justify_items": null,
            "grid_row": null,
            "max_height": null,
            "align_content": null,
            "visibility": null,
            "align_self": null,
            "height": null,
            "min_height": null,
            "padding": null,
            "grid_auto_rows": null,
            "grid_gap": null,
            "max_width": null,
            "order": null,
            "_view_module_version": "1.2.0",
            "grid_template_areas": null,
            "object_position": null,
            "object_fit": null,
            "grid_auto_columns": null,
            "margin": null,
            "display": null,
            "left": null
          }
        },
        "305a8a63096a411dbf91c0eb28388945": {
          "model_module": "@jupyter-widgets/controls",
          "model_name": "FloatProgressModel",
          "state": {
            "_view_name": "ProgressView",
            "style": "IPY_MODEL_5080152fc73f4843828cfa39bbe40763",
            "_dom_classes": [],
            "description": "",
            "_model_name": "FloatProgressModel",
            "bar_style": "info",
            "max": 1,
            "_view_module": "@jupyter-widgets/controls",
            "_model_module_version": "1.5.0",
            "value": 1,
            "_view_count": null,
            "_view_module_version": "1.5.0",
            "orientation": "horizontal",
            "min": 0,
            "description_tooltip": null,
            "_model_module": "@jupyter-widgets/controls",
            "layout": "IPY_MODEL_90712863380a413884bbfa3f72869b09"
          }
        },
        "f4f327ee1b014b0281817779238479d3": {
          "model_module": "@jupyter-widgets/controls",
          "model_name": "HTMLModel",
          "state": {
            "_view_name": "HTMLView",
            "style": "IPY_MODEL_ed3f9fc2b82f4e66a344e6ee51a41e5a",
            "_dom_classes": [],
            "description": "",
            "_model_name": "HTMLModel",
            "placeholder": "​",
            "_view_module": "@jupyter-widgets/controls",
            "_model_module_version": "1.5.0",
            "value": " 400000/0 [00:12&lt;00:00, 34296.36 examples/s]",
            "_view_count": null,
            "_view_module_version": "1.5.0",
            "description_tooltip": null,
            "_model_module": "@jupyter-widgets/controls",
            "layout": "IPY_MODEL_1cfc26d156f34a3c906f26860917f89d"
          }
        },
        "5080152fc73f4843828cfa39bbe40763": {
          "model_module": "@jupyter-widgets/controls",
          "model_name": "ProgressStyleModel",
          "state": {
            "_view_name": "StyleView",
            "_model_name": "ProgressStyleModel",
            "description_width": "initial",
            "_view_module": "@jupyter-widgets/base",
            "_model_module_version": "1.5.0",
            "_view_count": null,
            "_view_module_version": "1.2.0",
            "bar_color": null,
            "_model_module": "@jupyter-widgets/controls"
          }
        },
        "90712863380a413884bbfa3f72869b09": {
          "model_module": "@jupyter-widgets/base",
          "model_name": "LayoutModel",
          "state": {
            "_view_name": "LayoutView",
            "grid_template_rows": null,
            "right": null,
            "justify_content": null,
            "_view_module": "@jupyter-widgets/base",
            "overflow": null,
            "_model_module_version": "1.2.0",
            "_view_count": null,
            "flex_flow": null,
            "width": null,
            "min_width": null,
            "border": null,
            "align_items": null,
            "bottom": null,
            "_model_module": "@jupyter-widgets/base",
            "top": null,
            "grid_column": null,
            "overflow_y": null,
            "overflow_x": null,
            "grid_auto_flow": null,
            "grid_area": null,
            "grid_template_columns": null,
            "flex": null,
            "_model_name": "LayoutModel",
            "justify_items": null,
            "grid_row": null,
            "max_height": null,
            "align_content": null,
            "visibility": null,
            "align_self": null,
            "height": null,
            "min_height": null,
            "padding": null,
            "grid_auto_rows": null,
            "grid_gap": null,
            "max_width": null,
            "order": null,
            "_view_module_version": "1.2.0",
            "grid_template_areas": null,
            "object_position": null,
            "object_fit": null,
            "grid_auto_columns": null,
            "margin": null,
            "display": null,
            "left": null
          }
        },
        "ed3f9fc2b82f4e66a344e6ee51a41e5a": {
          "model_module": "@jupyter-widgets/controls",
          "model_name": "DescriptionStyleModel",
          "state": {
            "_view_name": "StyleView",
            "_model_name": "DescriptionStyleModel",
            "description_width": "",
            "_view_module": "@jupyter-widgets/base",
            "_model_module_version": "1.5.0",
            "_view_count": null,
            "_view_module_version": "1.2.0",
            "_model_module": "@jupyter-widgets/controls"
          }
        },
        "1cfc26d156f34a3c906f26860917f89d": {
          "model_module": "@jupyter-widgets/base",
          "model_name": "LayoutModel",
          "state": {
            "_view_name": "LayoutView",
            "grid_template_rows": null,
            "right": null,
            "justify_content": null,
            "_view_module": "@jupyter-widgets/base",
            "overflow": null,
            "_model_module_version": "1.2.0",
            "_view_count": null,
            "flex_flow": null,
            "width": null,
            "min_width": null,
            "border": null,
            "align_items": null,
            "bottom": null,
            "_model_module": "@jupyter-widgets/base",
            "top": null,
            "grid_column": null,
            "overflow_y": null,
            "overflow_x": null,
            "grid_auto_flow": null,
            "grid_area": null,
            "grid_template_columns": null,
            "flex": null,
            "_model_name": "LayoutModel",
            "justify_items": null,
            "grid_row": null,
            "max_height": null,
            "align_content": null,
            "visibility": null,
            "align_self": null,
            "height": null,
            "min_height": null,
            "padding": null,
            "grid_auto_rows": null,
            "grid_gap": null,
            "max_width": null,
            "order": null,
            "_view_module_version": "1.2.0",
            "grid_template_areas": null,
            "object_position": null,
            "object_fit": null,
            "grid_auto_columns": null,
            "margin": null,
            "display": null,
            "left": null
          }
        }
      }
    }
  },
  "cells": [
    {
      "cell_type": "markdown",
      "metadata": {
        "id": "view-in-github",
        "colab_type": "text"
      },
      "source": [
        "<a href=\"https://colab.research.google.com/github/pyreyes/style_transfer/blob/main/make_vocabularies.ipynb\" target=\"_parent\"><img src=\"https://colab.research.google.com/assets/colab-badge.svg\" alt=\"Open In Colab\"/></a>"
      ]
    },
    {
      "cell_type": "code",
      "metadata": {
        "id": "f5NDXrN2CtH7",
        "colab": {
          "base_uri": "https://localhost:8080/"
        },
        "outputId": "a04879b0-7b50-47cf-b168-16e412326379"
      },
      "source": [
        "import os\n",
        "import sys\n",
        "import random\n",
        "from sklearn.feature_extraction.text import CountVectorizer\n",
        "import numpy as np\n",
        "from collections import Counter\n",
        "\n",
        "from google.colab import drive\n",
        "drive.mount('/content/drive')\n",
        "\n",
        "os.chdir('drive/MyDrive/CS6120/Project')"
      ],
      "execution_count": null,
      "outputs": [
        {
          "output_type": "stream",
          "text": [
            "Mounted at /content/drive\n"
          ],
          "name": "stdout"
        }
      ]
    },
    {
      "cell_type": "code",
      "metadata": {
        "id": "CTSCo6HDQmON",
        "colab": {
          "base_uri": "https://localhost:8080/"
        },
        "outputId": "56004611-8f64-4cb5-cf4b-9eaa59d3857f"
      },
      "source": [
        "pip install datasets"
      ],
      "execution_count": null,
      "outputs": [
        {
          "output_type": "stream",
          "text": [
            "Collecting datasets\n",
            "\u001b[?25l  Downloading https://files.pythonhosted.org/packages/54/90/43b396481a8298c6010afb93b3c1e71d4ba6f8c10797a7da8eb005e45081/datasets-1.5.0-py3-none-any.whl (192kB)\n",
            "\r\u001b[K     |█▊                              | 10kB 15.6MB/s eta 0:00:01\r\u001b[K     |███▍                            | 20kB 20.9MB/s eta 0:00:01\r\u001b[K     |█████                           | 30kB 10.9MB/s eta 0:00:01\r\u001b[K     |██████▉                         | 40kB 8.8MB/s eta 0:00:01\r\u001b[K     |████████▌                       | 51kB 7.0MB/s eta 0:00:01\r\u001b[K     |██████████▏                     | 61kB 7.4MB/s eta 0:00:01\r\u001b[K     |████████████                    | 71kB 7.3MB/s eta 0:00:01\r\u001b[K     |█████████████▋                  | 81kB 7.5MB/s eta 0:00:01\r\u001b[K     |███████████████▎                | 92kB 7.8MB/s eta 0:00:01\r\u001b[K     |█████████████████               | 102kB 8.1MB/s eta 0:00:01\r\u001b[K     |██████████████████▊             | 112kB 8.1MB/s eta 0:00:01\r\u001b[K     |████████████████████▍           | 122kB 8.1MB/s eta 0:00:01\r\u001b[K     |██████████████████████▏         | 133kB 8.1MB/s eta 0:00:01\r\u001b[K     |███████████████████████▉        | 143kB 8.1MB/s eta 0:00:01\r\u001b[K     |█████████████████████████▌      | 153kB 8.1MB/s eta 0:00:01\r\u001b[K     |███████████████████████████▎    | 163kB 8.1MB/s eta 0:00:01\r\u001b[K     |█████████████████████████████   | 174kB 8.1MB/s eta 0:00:01\r\u001b[K     |██████████████████████████████▋ | 184kB 8.1MB/s eta 0:00:01\r\u001b[K     |████████████████████████████████| 194kB 8.1MB/s \n",
            "\u001b[?25hCollecting huggingface-hub<0.1.0\n",
            "  Downloading https://files.pythonhosted.org/packages/a1/88/7b1e45720ecf59c6c6737ff332f41c955963090a18e72acbcbeac6b25e86/huggingface_hub-0.0.8-py3-none-any.whl\n",
            "Requirement already satisfied: pyarrow>=0.17.1 in /usr/local/lib/python3.7/dist-packages (from datasets) (3.0.0)\n",
            "Requirement already satisfied: importlib-metadata; python_version < \"3.8\" in /usr/local/lib/python3.7/dist-packages (from datasets) (3.8.1)\n",
            "Collecting xxhash\n",
            "\u001b[?25l  Downloading https://files.pythonhosted.org/packages/e7/27/1c0b37c53a7852f1c190ba5039404d27b3ae96a55f48203a74259f8213c9/xxhash-2.0.0-cp37-cp37m-manylinux2010_x86_64.whl (243kB)\n",
            "\u001b[K     |████████████████████████████████| 245kB 9.6MB/s \n",
            "\u001b[?25hRequirement already satisfied: numpy>=1.17 in /usr/local/lib/python3.7/dist-packages (from datasets) (1.19.5)\n",
            "Requirement already satisfied: tqdm<4.50.0,>=4.27 in /usr/local/lib/python3.7/dist-packages (from datasets) (4.41.1)\n",
            "Collecting fsspec\n",
            "\u001b[?25l  Downloading https://files.pythonhosted.org/packages/62/11/f7689b996f85e45f718745c899f6747ee5edb4878cadac0a41ab146828fa/fsspec-0.9.0-py3-none-any.whl (107kB)\n",
            "\u001b[K     |████████████████████████████████| 112kB 13.9MB/s \n",
            "\u001b[?25hRequirement already satisfied: requests>=2.19.0 in /usr/local/lib/python3.7/dist-packages (from datasets) (2.23.0)\n",
            "Requirement already satisfied: pandas in /usr/local/lib/python3.7/dist-packages (from datasets) (1.1.5)\n",
            "Requirement already satisfied: multiprocess in /usr/local/lib/python3.7/dist-packages (from datasets) (0.70.11.1)\n",
            "Requirement already satisfied: dill in /usr/local/lib/python3.7/dist-packages (from datasets) (0.3.3)\n",
            "Requirement already satisfied: filelock in /usr/local/lib/python3.7/dist-packages (from huggingface-hub<0.1.0->datasets) (3.0.12)\n",
            "Requirement already satisfied: typing-extensions>=3.6.4; python_version < \"3.8\" in /usr/local/lib/python3.7/dist-packages (from importlib-metadata; python_version < \"3.8\"->datasets) (3.7.4.3)\n",
            "Requirement already satisfied: zipp>=0.5 in /usr/local/lib/python3.7/dist-packages (from importlib-metadata; python_version < \"3.8\"->datasets) (3.4.1)\n",
            "Requirement already satisfied: idna<3,>=2.5 in /usr/local/lib/python3.7/dist-packages (from requests>=2.19.0->datasets) (2.10)\n",
            "Requirement already satisfied: chardet<4,>=3.0.2 in /usr/local/lib/python3.7/dist-packages (from requests>=2.19.0->datasets) (3.0.4)\n",
            "Requirement already satisfied: certifi>=2017.4.17 in /usr/local/lib/python3.7/dist-packages (from requests>=2.19.0->datasets) (2020.12.5)\n",
            "Requirement already satisfied: urllib3!=1.25.0,!=1.25.1,<1.26,>=1.21.1 in /usr/local/lib/python3.7/dist-packages (from requests>=2.19.0->datasets) (1.24.3)\n",
            "Requirement already satisfied: python-dateutil>=2.7.3 in /usr/local/lib/python3.7/dist-packages (from pandas->datasets) (2.8.1)\n",
            "Requirement already satisfied: pytz>=2017.2 in /usr/local/lib/python3.7/dist-packages (from pandas->datasets) (2018.9)\n",
            "Requirement already satisfied: six>=1.5 in /usr/local/lib/python3.7/dist-packages (from python-dateutil>=2.7.3->pandas->datasets) (1.15.0)\n",
            "Installing collected packages: huggingface-hub, xxhash, fsspec, datasets\n",
            "Successfully installed datasets-1.5.0 fsspec-0.9.0 huggingface-hub-0.0.8 xxhash-2.0.0\n"
          ],
          "name": "stdout"
        }
      ]
    },
    {
      "cell_type": "code",
      "metadata": {
        "id": "YWdrlm8kQYjf",
        "colab": {
          "base_uri": "https://localhost:8080/",
          "height": 218,
          "referenced_widgets": [
            "0ed6759a7bee4aa594d8fafbc822c414",
            "cab6c1063c584026bb68889b53534572",
            "2e7d0d66bad8417f8e4730e08772f81a",
            "38d9b2d2debe4a21b0471a1ca7a6b3d6",
            "6678af1ad1df4672afa4d15e6629effd",
            "ec6f4db962a14598b517da96d9f3ad6e",
            "c8af7d20c66545f5b2f83b16d4bf87cf",
            "fbf4f2fbc044452ead7c7766fbbd8b23",
            "795bbf23a36041118482d8f8651ebc47",
            "c72d322489c04dca92a53d012e82f005",
            "689b9948359240c1b8990e50f44a9ab3",
            "4a942f3852334fab8b05c08a967b03fd",
            "d553d2fe3f224f15b8cc52a22666d4d1",
            "c195ec40fe744723bbf0d53177bca9d1",
            "c0a6a57db1db45b49cdc48effedf81ba",
            "d7b928a03dda4086ada275913808372c",
            "9dfdef1950ab483f951d4b773ee14958",
            "40f4b6c5ab3143c1866b89612152f0e8",
            "ab236f1bea7d49d9b88e726775d04734",
            "9a7c579a9204463ab219b6f3cfa42330",
            "b34f4cc8c7f74390b5b3daa581f7c99e",
            "2784b36a7f70401b8999cb9f39ce3f1a",
            "e314e12c6a794469b99fb3de0187f3de",
            "a54a13eee7374be3858130db1f9d44d3",
            "15bc5bd3fda74a1fa68558b69d5bd7bc",
            "09db291e2363425281595a1226be0bad",
            "d650e9519b2140a9af10a3b27a5cd635",
            "2e7d7877d74449829237fdc4c4ba7825",
            "854ba6651a5940089a7314cbcfa60efa",
            "e56c62f716934bd9a1c6882b4f4bc782",
            "1ce6c574192b425bae4da06db8cfa8e8",
            "61168f29c0ae4038a0ecad97f02809e9",
            "87004b001dea454492c45238e49fe9a5",
            "c5dc009029d046f990a596ec90e08076",
            "305a8a63096a411dbf91c0eb28388945",
            "f4f327ee1b014b0281817779238479d3",
            "5080152fc73f4843828cfa39bbe40763",
            "90712863380a413884bbfa3f72869b09",
            "ed3f9fc2b82f4e66a344e6ee51a41e5a",
            "1cfc26d156f34a3c906f26860917f89d"
          ]
        },
        "outputId": "8dcbb018-27aa-4309-e5bd-c399eae3e6a8"
      },
      "source": [
        "from datasets import load_dataset  \n",
        "dataset = load_dataset(\"amazon_polarity\")"
      ],
      "execution_count": null,
      "outputs": [
        {
          "output_type": "display_data",
          "data": {
            "application/vnd.jupyter.widget-view+json": {
              "model_id": "0ed6759a7bee4aa594d8fafbc822c414",
              "version_minor": 0,
              "version_major": 2
            },
            "text/plain": [
              "HBox(children=(FloatProgress(value=0.0, description='Downloading', max=1690.0, style=ProgressStyle(description…"
            ]
          },
          "metadata": {
            "tags": []
          }
        },
        {
          "output_type": "stream",
          "text": [
            "\n"
          ],
          "name": "stdout"
        },
        {
          "output_type": "display_data",
          "data": {
            "application/vnd.jupyter.widget-view+json": {
              "model_id": "795bbf23a36041118482d8f8651ebc47",
              "version_minor": 0,
              "version_major": 2
            },
            "text/plain": [
              "HBox(children=(FloatProgress(value=0.0, description='Downloading', max=860.0, style=ProgressStyle(description_…"
            ]
          },
          "metadata": {
            "tags": []
          }
        },
        {
          "output_type": "stream",
          "text": [
            "\n",
            "Downloading and preparing dataset amazon_polarity/amazon_polarity (download: 656.45 MiB, generated: 1.66 GiB, post-processed: Unknown size, total: 2.30 GiB) to /root/.cache/huggingface/datasets/amazon_polarity/amazon_polarity/3.0.0/35b3f5f426863b55dda2d5dc0da2d3714c7b0e5ba64bc4f1415ac9291ffdb234...\n"
          ],
          "name": "stdout"
        },
        {
          "output_type": "display_data",
          "data": {
            "application/vnd.jupyter.widget-view+json": {
              "model_id": "9dfdef1950ab483f951d4b773ee14958",
              "version_minor": 0,
              "version_major": 2
            },
            "text/plain": [
              "HBox(children=(FloatProgress(value=1.0, bar_style='info', description='Downloading', max=1.0, style=ProgressSt…"
            ]
          },
          "metadata": {
            "tags": []
          }
        },
        {
          "output_type": "stream",
          "text": [
            "\n"
          ],
          "name": "stdout"
        },
        {
          "output_type": "display_data",
          "data": {
            "application/vnd.jupyter.widget-view+json": {
              "model_id": "15bc5bd3fda74a1fa68558b69d5bd7bc",
              "version_minor": 0,
              "version_major": 2
            },
            "text/plain": [
              "HBox(children=(FloatProgress(value=1.0, bar_style='info', max=1.0), HTML(value='')))"
            ]
          },
          "metadata": {
            "tags": []
          }
        },
        {
          "output_type": "stream",
          "text": [
            "\r"
          ],
          "name": "stdout"
        },
        {
          "output_type": "display_data",
          "data": {
            "application/vnd.jupyter.widget-view+json": {
              "model_id": "87004b001dea454492c45238e49fe9a5",
              "version_minor": 0,
              "version_major": 2
            },
            "text/plain": [
              "HBox(children=(FloatProgress(value=1.0, bar_style='info', max=1.0), HTML(value='')))"
            ]
          },
          "metadata": {
            "tags": []
          }
        },
        {
          "output_type": "stream",
          "text": [
            "\rDataset amazon_polarity downloaded and prepared to /root/.cache/huggingface/datasets/amazon_polarity/amazon_polarity/3.0.0/35b3f5f426863b55dda2d5dc0da2d3714c7b0e5ba64bc4f1415ac9291ffdb234. Subsequent calls will reuse this data.\n"
          ],
          "name": "stdout"
        }
      ]
    },
    {
      "cell_type": "code",
      "metadata": {
        "id": "zph7eEOUTOvV"
      },
      "source": [
        "import re\n",
        "\n",
        "def get_review(r):\n",
        "  sens = re.split('\\. |\\n', r)\n",
        "  # re.sub(r'[^A-Za-z ,\\' -!&_]+',' ',\n",
        "  sens = [re.sub(r'[\\d]+','_num_',re.sub(r'([^A-Za-z_\\d\\s\\'-])',r' \\1 ',sen.lower())) for sen in sens if len(sen) in range(20,160)]\n",
        "  rand = random.randint(0, max(len(sens)-1,0))\n",
        "  if len(sens) > 0:\n",
        "    return sens[rand]\n",
        "  else:\n",
        "    return ''\n"
      ],
      "execution_count": null,
      "outputs": []
    },
    {
      "cell_type": "code",
      "metadata": {
        "id": "97Jp-YFHYMvU"
      },
      "source": [
        "train = [get_review(r) for r in dataset['train']['content']]\n",
        "\n",
        "labels = dataset['train']['label']\n",
        "train_1 = []\n",
        "train_0 = []\n",
        "\n",
        "for i, l in enumerate(labels):\n",
        "  if len(train[i]) < 1:\n",
        "    continue\n",
        "  if l == 1:\n",
        "    train_1.append(train[i])\n",
        "  else:\n",
        "    train_0.append(train[i])"
      ],
      "execution_count": null,
      "outputs": []
    },
    {
      "cell_type": "code",
      "metadata": {
        "id": "XhrMpLsagx3K"
      },
      "source": [
        "random.shuffle(train_1)\n",
        "random.shuffle(train_0)\n",
        "dev_1 = train_1[:340000]\n",
        "dev_0 = train_0[:340000]\n",
        "train_1 = train_1[340000:]\n",
        "train_0 = train_0[340000:]"
      ],
      "execution_count": null,
      "outputs": []
    },
    {
      "cell_type": "code",
      "metadata": {
        "id": "sSP3Qu_9YpfC"
      },
      "source": [
        "#write negative reviews out to file\n",
        "f = open(\"amazon/sentiment.train.0\", \"w\")\n",
        "for l in train_0:\n",
        "  if len(l) > 0:\n",
        "    f.write(l+'\\n')\n",
        "    f.close\n",
        "\n",
        "#write positive reviews out to file\n",
        "f = open(\"amazon/sentiment.train.1\", \"w\")\n",
        "for l in train_1:\n",
        "  if len(l) > 0:\n",
        "    f.write(l+'\\n')\n",
        "    f.close\n",
        "\n",
        "#write positive reviews out to file\n",
        "f = open(\"amazon/sentiment.dev.1\", \"w\")\n",
        "for l in dev_1:\n",
        "  if len(l) > 0:\n",
        "    f.write(l+'\\n')\n",
        "    f.close\n",
        "\n",
        "#write positive reviews out to file\n",
        "f = open(\"amazon/sentiment.dev.0\", \"w\")\n",
        "for l in dev_0:\n",
        "  if len(l) > 0:\n",
        "    f.write(l+'\\n')\n",
        "    f.close"
      ],
      "execution_count": null,
      "outputs": []
    },
    {
      "cell_type": "code",
      "metadata": {
        "id": "d9gYKr1hZ859"
      },
      "source": [
        "train = train_0 + train_1\n",
        "\n",
        "corpus = [\n",
        "          re.sub(r'[^\\w\\'-]','',w) for l in train\n",
        "          for w in l.strip().split() \n",
        "          if len(re.sub(r'[^\\w\\'-]','',w)) > 0 \n",
        "          ]"
      ],
      "execution_count": null,
      "outputs": []
    },
    {
      "cell_type": "code",
      "metadata": {
        "id": "Zx92KNNhZrgL"
      },
      "source": [
        "k = 20000\n",
        "vocab = []\n",
        "\n",
        "vocab.append('<unk>')\n",
        "vocab.append('<pad>')\n",
        "vocab.append('<s>')\n",
        "vocab.append('</s>')\n",
        "\n",
        "c = Counter()\n",
        "for l in corpus:\n",
        "    for tok in l.strip().split():\n",
        "        c[tok] += 1\n",
        "\n",
        "for tok, _ in c.most_common(k):\n",
        "    vocab.append(tok)"
      ],
      "execution_count": null,
      "outputs": []
    },
    {
      "cell_type": "code",
      "metadata": {
        "id": "iNpi0a2beij1"
      },
      "source": [
        "#save vocab to file\n",
        "f = open(\"amazon/vocab\", \"w\")\n",
        "for w in vocab:\n",
        "  f.write(w+'\\n')\n",
        "  f.close"
      ],
      "execution_count": null,
      "outputs": []
    },
    {
      "cell_type": "code",
      "metadata": {
        "id": "EgFgdviq5mtW"
      },
      "source": [
        "#load positive sentiment data\n",
        "pos_corpus = [\n",
        "    w #if w in vocab else '<unk>' \n",
        "    for l in train_1 #open('amazon/sentiment.train.1')\n",
        "    for w in l.strip().split()\n",
        "]\n",
        "\n",
        "#load negative sentiment data\n",
        "neg_corpus = [\n",
        "    w #if w in vocab else '<unk>' \n",
        "    for l in train_0 #open('amazon/sentiment.train.0')\n",
        "    for w in l.strip().split()\n",
        "]\n",
        "\n",
        "#define object to calculate the n-gram salience as defined in paper#1\n",
        "class SalienceCalculator(object):\n",
        "    def __init__(self, pos_corpus, neg_corpus):\n",
        "        self.vectorizer = CountVectorizer()\n",
        "\n",
        "        pos_count_matrix = self.vectorizer.fit_transform(pos_corpus)\n",
        "        self.pos_vocab = self.vectorizer.vocabulary_\n",
        "        self.pos_counts = np.sum(pos_count_matrix, axis=0)\n",
        "        self.pos_counts = np.squeeze(np.asarray(self.pos_counts))\n",
        "\n",
        "        neg_count_matrix = self.vectorizer.fit_transform(neg_corpus)\n",
        "        self.neg_vocab = self.vectorizer.vocabulary_\n",
        "        self.neg_counts = np.sum(neg_count_matrix, axis=0)\n",
        "        self.neg_counts = np.squeeze(np.asarray(self.neg_counts))\n",
        "\n",
        "\n",
        "    def salience(self, feature, attribute='neg', lmbda=0.5):\n",
        "        assert attribute in ['pos', 'neg']\n",
        "\n",
        "        if feature not in self.pos_vocab:\n",
        "            pos_count = 0.0\n",
        "        else:\n",
        "            pos_count = self.pos_counts[self.pos_vocab[feature]]\n",
        "\n",
        "        if feature not in self.neg_vocab:\n",
        "            neg_count = 0.0\n",
        "        else:\n",
        "            neg_count = self.neg_counts[self.neg_vocab[feature]]\n",
        "        \n",
        "        if attribute == 'pos':\n",
        "            return (pos_count + lmbda) / (neg_count + lmbda)\n",
        "        else:\n",
        "            return (neg_count + lmbda) / (pos_count + lmbda)\n",
        "\n",
        "#calculate n-gram salience\n",
        "sc = SalienceCalculator(pos_corpus, neg_corpus)"
      ],
      "execution_count": null,
      "outputs": []
    },
    {
      "cell_type": "code",
      "metadata": {
        "id": "1U9Yt3utBPLe"
      },
      "source": [
        "# build attribute vocabulary\n",
        "r = 4\n",
        "attribute_vocab = []\n",
        "for tok in vocab:\n",
        "  if max(sc.salience(tok, attribute='neg'), sc.salience(tok, attribute='pos')) > r:\n",
        "    attribute_vocab.append(tok)\n",
        "\n",
        "attribute_vocab = [w for w in attribute_vocab if w in vocab]"
      ],
      "execution_count": null,
      "outputs": []
    },
    {
      "cell_type": "code",
      "metadata": {
        "id": "nKXCYQ0uN-Ul"
      },
      "source": [
        "#save attribute_vocab\n",
        "f = open(\"amazon/attribute_vocab\", \"w\")\n",
        "for w in attribute_vocab:\n",
        "  f.write(w+'\\n')\n",
        "  f.close\n"
      ],
      "execution_count": null,
      "outputs": []
    },
    {
      "cell_type": "markdown",
      "metadata": {
        "id": "Duf7tbCmqTWb"
      },
      "source": [
        ""
      ]
    },
    {
      "cell_type": "code",
      "metadata": {
        "id": "syIHFxL5pw1R"
      },
      "source": [
        "import nltk\n",
        "from nltk import word_tokenize, pos_tag, ne_chunk\n",
        "from nltk.chunk import conlltags2tree, tree2conlltags\n",
        "f = open('amazon/sentiment.train.0', 'r')\n",
        "\n",
        "for line in f:\n",
        "\tlines=line.strip().split('\\t')\n",
        "\t#if(len(lines)!=2 or 'play' in line):\n",
        "\tif(len(lines)!=2):\n",
        "\t\tcontinue\n",
        "\tif(string.atof(lines[1])<5.0):\n",
        "\t\tbreak\n",
        "\tne_tree = ne_chunk(pos_tag(word_tokenize(lines[0])))\n",
        "\tiob_tagged = tree2conlltags(ne_tree)\n",
        "\t#print iob_tagged\n",
        "\tflag=0\n",
        "\tfor ll in iob_tagged:\n",
        "\t\tif('NN' in ll[1]):\n",
        "\t\t\tflag=1\n",
        "\t\t\tbreak\n",
        "\tif(flag==0):\n",
        "\t\tfw.write(line)\t"
      ],
      "execution_count": null,
      "outputs": []
    },
    {
      "cell_type": "code",
      "metadata": {
        "id": "hN1RhPq4p4RK",
        "colab": {
          "base_uri": "https://localhost:8080/",
          "height": 164
        },
        "outputId": "9dadafff-7fee-4537-d430-ef05075adc79"
      },
      "source": [
        "type(test)"
      ],
      "execution_count": null,
      "outputs": [
        {
          "output_type": "error",
          "ename": "NameError",
          "evalue": "ignored",
          "traceback": [
            "\u001b[0;31m---------------------------------------------------------------------------\u001b[0m",
            "\u001b[0;31mNameError\u001b[0m                                 Traceback (most recent call last)",
            "\u001b[0;32m<ipython-input-2-053cd09534e5>\u001b[0m in \u001b[0;36m<module>\u001b[0;34m()\u001b[0m\n\u001b[0;32m----> 1\u001b[0;31m \u001b[0mtype\u001b[0m\u001b[0;34m(\u001b[0m\u001b[0mtest\u001b[0m\u001b[0;34m)\u001b[0m\u001b[0;34m\u001b[0m\u001b[0;34m\u001b[0m\u001b[0m\n\u001b[0m",
            "\u001b[0;31mNameError\u001b[0m: name 'test' is not defined"
          ]
        }
      ]
    },
    {
      "cell_type": "code",
      "metadata": {
        "id": "IS0ae-1eleaG"
      },
      "source": [
        "#Used to extract data\n",
        "# import tarfile\n",
        "# tar = tarfile.open(\"Amazon Reviews Data/data.tar\")\n",
        "# tar.extractall()\n",
        "# tar.close()"
      ],
      "execution_count": null,
      "outputs": []
    },
    {
      "cell_type": "code",
      "metadata": {
        "id": "feWoOrmt4Tja",
        "colab": {
          "base_uri": "https://localhost:8080/"
        },
        "outputId": "dddee8ac-03fc-4e22-e140-f9a8e281d4cb"
      },
      "source": [
        "!wget http://deepyeti.ucsd.edu/jianmo/amazon/sample/meta_Computers.json.gz"
      ],
      "execution_count": null,
      "outputs": [
        {
          "output_type": "stream",
          "text": [
            "--2021-03-29 23:12:05--  http://deepyeti.ucsd.edu/jianmo/amazon/sample/meta_Computers.json.gz\n",
            "Resolving deepyeti.ucsd.edu (deepyeti.ucsd.edu)... 169.228.63.50\n",
            "Connecting to deepyeti.ucsd.edu (deepyeti.ucsd.edu)|169.228.63.50|:80... connected.\n",
            "HTTP request sent, awaiting response... 200 OK\n",
            "Length: 7010521 (6.7M) [application/octet-stream]\n",
            "Saving to: ‘meta_Computers.json.gz’\n",
            "\n",
            "meta_Computers.json 100%[===================>]   6.69M  20.0MB/s    in 0.3s    \n",
            "\n",
            "2021-03-29 23:12:05 (20.0 MB/s) - ‘meta_Computers.json.gz’ saved [7010521/7010521]\n",
            "\n"
          ],
          "name": "stdout"
        }
      ]
    },
    {
      "cell_type": "code",
      "metadata": {
        "id": "7igYuRaV4bF7",
        "colab": {
          "base_uri": "https://localhost:8080/"
        },
        "outputId": "c3b47c3b-538d-4877-d49d-9319a49109e1"
      },
      "source": [
        "### load the meta data\n",
        "\n",
        "data = []\n",
        "with gzip.open('meta_Computers.json.gz') as f:\n",
        "    for l in f:\n",
        "        data.append(json.loads(l.strip()))\n",
        "    \n",
        "# total length of list, this number equals total number of products\n",
        "print(len(data))\n",
        "\n",
        "# first row of the list\n",
        "print(data[2])"
      ],
      "execution_count": null,
      "outputs": [
        {
          "output_type": "stream",
          "text": [
            "18772\n",
            "{'description': ['School To Home Notes: Note From the Teacher!\\\\nSuitable Wording for Both Parents and Caregivers!\\\\nA great, time-saving way to communicate with parents/care providers! Each specifically designed School to Home Notes booklet contains 60, colorful, two-part c'], 'title': 'TEACHERS FRIEND NOTE FROM THE TEACHER SCHOOL TO HOME NOTES', 'image': ['https://images-na.ssl-images-amazon.com/images/I/31GI7SdbS7L._SS40_.jpg'], 'brand': 'TEACHERS FRIEND', 'rank': ['>#1,233,887 in Electronics (See Top 100 in Electronics)'], 'main_cat': 'Computers', 'date': 'June 6, 2007', 'asin': '0439651859'}\n"
          ],
          "name": "stdout"
        }
      ]
    },
    {
      "cell_type": "code",
      "metadata": {
        "id": "knpHP22w4scK",
        "colab": {
          "base_uri": "https://localhost:8080/",
          "height": 34
        },
        "outputId": "b75be678-1377-4b8c-b689-56e1eab703b8"
      },
      "source": [
        "# convert list into pandas dataframe\n",
        "\n",
        "df = pd.DataFrame.from_dict(data)\n",
        "\n",
        "print(len(df))"
      ],
      "execution_count": null,
      "outputs": [
        {
          "output_type": "stream",
          "text": [
            "18772\n"
          ],
          "name": "stdout"
        }
      ]
    },
    {
      "cell_type": "code",
      "metadata": {
        "id": "LgWrDtZ94w89",
        "colab": {
          "base_uri": "https://localhost:8080/",
          "height": 51
        },
        "outputId": "7e22e4ab-1622-4452-ce81-54e85ef92522"
      },
      "source": [
        "### remove rows with unformatted title (i.e. some 'title' may still contain html style content)\n",
        "\n",
        "df3 = df.fillna('')\n",
        "df4 = df3[df3.title.str.contains('getTime')] # unformatted rows\n",
        "df5 = df3[~df3.title.str.contains('getTime')] # filter those unformatted rows\n",
        "print(len(df4))\n",
        "print(len(df5))"
      ],
      "execution_count": null,
      "outputs": [
        {
          "output_type": "stream",
          "text": [
            "135\n",
            "18637\n"
          ],
          "name": "stdout"
        }
      ]
    },
    {
      "cell_type": "code",
      "metadata": {
        "id": "7Vq32rQd5D9W",
        "colab": {
          "base_uri": "https://localhost:8080/",
          "height": 306
        },
        "outputId": "2965e85b-d993-4520-a992-d42e0cec3f01"
      },
      "source": [
        "# how those unformatted rows look like\n",
        "df4.iloc[0]"
      ],
      "execution_count": null,
      "outputs": [
        {
          "output_type": "execute_result",
          "data": {
            "text/plain": [
              "description                                                      \n",
              "title           var aPageStart = (new Date()).getTime();\\nvar ...\n",
              "image                                                            \n",
              "brand                                              DS Miller Inc.\n",
              "rank            [>#1,826,312 in Electronics (See Top 100 in El...\n",
              "main_cat                                                Computers\n",
              "date                                                March 1, 2010\n",
              "asin                                                   B0016C5EXY\n",
              "feature                                                          \n",
              "tech1                                                            \n",
              "also_buy                                                         \n",
              "price                                                            \n",
              "also_view                                                        \n",
              "tech2                                                            \n",
              "details                                                          \n",
              "similar_item                                                     \n",
              "Name: 1186, dtype: object"
            ]
          },
          "metadata": {
            "tags": []
          },
          "execution_count": 7
        }
      ]
    },
    {
      "cell_type": "code",
      "metadata": {
        "id": "6LBLzsFU5LJ_"
      },
      "source": [
        "import sys\n",
        "import random\n",
        "import string\n",
        "\n",
        "data_prefix=data/amazon/sentiment.train.\n",
        "result_prefix=sentiment.train.\n",
        "data_file_num=2\n",
        "negtive_array=[]\n",
        "def load_data(file_name):\n",
        "\tf=open(file_name,'r')\n",
        "\ttmp=[]\n",
        "\tfor line in f:\n",
        "\t\tif('url' in line):\n",
        "\t\t\tcontinue\n",
        "\t\tline=line.strip()\n",
        "\t\ttmp.append(line)\n",
        "\trandom.shuffle(tmp)\n",
        "\treturn tmp[:min(len(tmp),5000000000)]\n",
        "#negtive_array+=load_data('all_subtitle.gbk')\n",
        "#negtive_array+=load_data('all_daily_dialogtwitter_sen.txt')\n",
        "name_array=[]\n",
        "for i in range(0,2):\n",
        "\tname_array.append(data/amazon/sentiment.train.+str(i))\n",
        "#name_array=['funny_train.txt.test','romantic_train.txt.test']\n",
        "#tag='Sheldon'\n",
        "def get_dict(sen_array):\n",
        "        tmp_dict={}\n",
        "        for i in sen_array:\n",
        "                sens=i.strip().split(' ')\n",
        "                for n in range(1,5):\n",
        "                        for l in range(0,len(sens)-n+1):\n",
        "                                tmp=' '.join(sens[l:l+n])\n",
        "                                if(tmp_dict.get(tmp)!=None):\n",
        "                                        tmp_dict[tmp]+=1\n",
        "                                else:\n",
        "                                        tmp_dict[tmp]=1\n",
        "        return tmp_dict\n",
        "num=0\n",
        "for tag in name_array:\n",
        "\tnegtive_array=[]\n",
        "\tpositve_array=load_data(tag)\n",
        "\tfor i in name_array:\n",
        "\t\tif tag!=i:\n",
        "\t\t\tnegtive_array+=load_data(i)\n",
        "\t#fw=open(tag+'.train','w')\n",
        "\t#neg_dict={}\n",
        "\t#pos_dict={}\n",
        "\tneg_dict=get_dict(negtive_array)\n",
        "\tpos_dict=get_dict(positve_array)\n",
        "\ttf_idf={}\n",
        "\tfor i in pos_dict.keys():\n",
        "        \tif(neg_dict.get(i)!=None):\n",
        "                \ttf_idf[i]=(pos_dict[i]+1.0)/(neg_dict[i]+1.0)\n",
        "        \telse:\n",
        "                \ttf_idf[i]=(pos_dict[i]+1.0)\n",
        "\ttf_dif1=sorted(tf_idf.items(), lambda x, y: cmp(x[1], y[1]), reverse=True)\n",
        "\tfw=open(sentiment.train.+str(num)+'.tf_idf'+'.'+sys.argv[3],'w')\n",
        "\tfor i in tf_dif1:\n",
        "        \tfw.write(i[0]+'\\t'+str(i[1])+'\\n')\n",
        "\tnum+=1"
      ],
      "execution_count": null,
      "outputs": []
    },
    {
      "cell_type": "code",
      "metadata": {
        "id": "WqZcdGp-5cui"
      },
      "source": [
        ""
      ],
      "execution_count": null,
      "outputs": []
    }
  ]
}